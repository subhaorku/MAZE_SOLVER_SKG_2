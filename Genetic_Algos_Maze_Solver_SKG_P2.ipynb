{
  "nbformat": 4,
  "nbformat_minor": 0,
  "metadata": {
    "colab": {
      "provenance": []
    },
    "kernelspec": {
      "name": "python3",
      "display_name": "Python 3"
    },
    "language_info": {
      "name": "python"
    }
  },
  "cells": [
    {
      "cell_type": "markdown",
      "source": [
        "#Each path is 100 instructions long, so it doesn't matter whether you reach there after 30 moves, or 90 moves, but it should!\n",
        "#We want to prefer the shorter path, right?\n",
        "#Edit the evaluation function such that it returns a smaller value for 30 moves, than 90 moves. And individuals who do not reach the end are always returning more than solutions who are."
      ],
      "metadata": {
        "id": "XkrNtJ6qAOBY"
      }
    },
    {
      "cell_type": "code",
      "execution_count": null,
      "metadata": {
        "id": "nB4p-g3QdHIE",
        "colab": {
          "base_uri": "https://localhost:8080/"
        },
        "outputId": "ad1c84a4-2970-46a8-af3d-c47504a7e75e"
      },
      "outputs": [
        {
          "output_type": "stream",
          "name": "stdout",
          "text": [
            "Requirement already satisfied: matplotlib in /usr/local/lib/python3.10/dist-packages (3.7.1)\n",
            "Collecting deap\n",
            "  Downloading deap-1.4.1-cp310-cp310-manylinux_2_5_x86_64.manylinux1_x86_64.manylinux_2_17_x86_64.manylinux2014_x86_64.whl (135 kB)\n",
            "\u001b[2K     \u001b[90m━━━━━━━━━━━━━━━━━━━━━━━━━━━━━━━━━━━━━━━━\u001b[0m \u001b[32m135.4/135.4 kB\u001b[0m \u001b[31m2.2 MB/s\u001b[0m eta \u001b[36m0:00:00\u001b[0m\n",
            "\u001b[?25hRequirement already satisfied: contourpy>=1.0.1 in /usr/local/lib/python3.10/dist-packages (from matplotlib) (1.2.1)\n",
            "Requirement already satisfied: cycler>=0.10 in /usr/local/lib/python3.10/dist-packages (from matplotlib) (0.12.1)\n",
            "Requirement already satisfied: fonttools>=4.22.0 in /usr/local/lib/python3.10/dist-packages (from matplotlib) (4.51.0)\n",
            "Requirement already satisfied: kiwisolver>=1.0.1 in /usr/local/lib/python3.10/dist-packages (from matplotlib) (1.4.5)\n",
            "Requirement already satisfied: numpy>=1.20 in /usr/local/lib/python3.10/dist-packages (from matplotlib) (1.25.2)\n",
            "Requirement already satisfied: packaging>=20.0 in /usr/local/lib/python3.10/dist-packages (from matplotlib) (24.0)\n",
            "Requirement already satisfied: pillow>=6.2.0 in /usr/local/lib/python3.10/dist-packages (from matplotlib) (9.4.0)\n",
            "Requirement already satisfied: pyparsing>=2.3.1 in /usr/local/lib/python3.10/dist-packages (from matplotlib) (3.1.2)\n",
            "Requirement already satisfied: python-dateutil>=2.7 in /usr/local/lib/python3.10/dist-packages (from matplotlib) (2.8.2)\n",
            "Requirement already satisfied: six>=1.5 in /usr/local/lib/python3.10/dist-packages (from python-dateutil>=2.7->matplotlib) (1.16.0)\n",
            "Installing collected packages: deap\n",
            "Successfully installed deap-1.4.1\n"
          ]
        }
      ],
      "source": [
        "# Install necessary libraries\n",
        "!pip install matplotlib deap"
      ]
    },
    {
      "cell_type": "code",
      "source": [
        "import random\n",
        "import numpy as np\n",
        "import matplotlib.pyplot as plt\n",
        "from deap import base, creator, tools, algorithms"
      ],
      "metadata": {
        "id": "HM1NYSJrdUFc"
      },
      "execution_count": null,
      "outputs": []
    },
    {
      "cell_type": "markdown",
      "source": [
        "base: This module provides basic functionalities for the DEAP framework, such as defining fitness functions, individuals, and populations.\n",
        "\n",
        "creator: This module allows the creation of custom types, typically used to define the individuals in evolutionary algorithms.\n",
        "\n",
        "tools: This module contains various utility functions and operators for working with individuals, populations, and evolutionary algorithms.\n",
        "\n",
        "algorithms: This module includes implementations of various evolutionary algorithms, such as genetic algorithms (GAs), genetic programming (GP), and other evolutionary strategies."
      ],
      "metadata": {
        "id": "bIobo5HrqFX1"
      }
    },
    {
      "cell_type": "code",
      "source": [
        "# Define the maze\n",
        "maze = [\n",
        "    [0, 0, 0, 1, 1, 1, 1, 1, 1, 1, 1, 1, 1, 1, 0],\n",
        "    [0, 0, 0, 0, 0, 0, 0, 0, 0, 0, 0, 0, 0, 1, 0],\n",
        "    [0, 0, 0, 0, 0, 0, 0, 0, 0, 0, 0, 0, 0, 1, 0],\n",
        "    [1, 1, 0, 0, 0, 0, 0, 0, 0, 0, 0, 0, 0, 1, 0],\n",
        "    [1, 1, 1, 1, 1, 1, 1, 1, 1, 1, 0, 0, 0, 1, 0],\n",
        "    [1, 1, 1, 1, 1, 1, 1, 1, 1, 0, 0, 0, 0, 1, 0],\n",
        "    [1, 1, 1, 1, 1, 1, 1, 1, 0, 0, 0, 0, 0, 0, 0],\n",
        "    [1, 1, 1, 1, 1, 1, 1, 0, 0, 0, 0, 0, 0, 0, 0],\n",
        "    [1, 1, 1, 1, 1, 1, 0, 0, 0, 0, 0, 0, 0, 0, 0],\n",
        "    [1, 1, 1, 1, 1, 0, 0, 0, 0, 1, 1, 1, 1, 0, 0],\n",
        "    [1, 1, 1, 1, 0, 0, 0, 0, 0, 1, 1, 1, 1, 0, 0],\n",
        "    [1, 1, 1, 0, 0, 0, 0, 0, 0, 0, 0, 0, 0, 0, 0],\n",
        "    [1, 1, 0, 0, 1, 1, 1, 0, 0, 0, 0, 0, 0, 0, 0],\n",
        "    [1, 0, 0, 1, 1, 1, 1, 1, 1, 1, 1, 1, 0, 0, 0],\n",
        "    [0, 0, 1, 1, 1, 1, 1, 1, 1, 1, 1, 1, 0, 0, 0]\n",
        "]\n",
        "\n",
        "# Start and end points\n",
        "start, end = (0, 0), (len(maze)-1, len(maze[0])-1)"
      ],
      "metadata": {
        "id": "cPhZ5JcgdWBz"
      },
      "execution_count": null,
      "outputs": []
    },
    {
      "cell_type": "markdown",
      "source": [
        "len(maze) returns the number of rows in the matrix. Subtracting 1 from this value gives us the index of the last row in the matrix because Python indexing starts from 0. So, len(maze)-1 gives us the index of the last row in the matrix.\n",
        "\n",
        "\n",
        "len(maze[0])-1 calculates the index of the last column in the matrix. maze[0] gives us the first row of the matrix, and len(maze[0]) returns the number of elements (columns) in that row. Subtracting 1 from this value gives us the index of the last column in the matrix."
      ],
      "metadata": {
        "id": "3KbRqcc7q94F"
      }
    },
    {
      "cell_type": "code",
      "source": [
        "# Genetic Algorithm setup\n",
        "creator.create(\"FitnessMin\", base.Fitness, weights=(-1.0,))\n",
        "# weights = -1.0 will basically assign higher fittness to lower distance value.\n",
        "creator.create(\"Individual\", list, fitness=creator.FitnessMin)\n",
        "\n",
        "toolbox = base.Toolbox()\n",
        "toolbox.register(\"attr_direction\", random.choice, ['U', 'D', 'L', 'R'])\n",
        "toolbox.register(\"individual\", tools.initRepeat, creator.Individual, toolbox.attr_direction, n=100)\n",
        "toolbox.register(\"population\", tools.initRepeat, list, toolbox.individual)"
      ],
      "metadata": {
        "id": "kvXtHCixdYPi"
      },
      "execution_count": null,
      "outputs": []
    },
    {
      "cell_type": "markdown",
      "source": [
        "Creator: This section creates classes to represent the fitness and individuals in our genetic algorithm.\n",
        "\n",
        "creator.create(\"FitnessMin\", base.Fitness, weights=(-1.0,)): This line creates a class named FitnessMin that inherits from base.Fitness. It represents the fitness of an individual in the population. The weights=(-1.0,) argument indicates that we are minimizing the fitness value. If there were multiple objectives, you would specify multiple weights.\n",
        "creator.create(\"Individual\", list, fitness=creator.FitnessMin): This line creates a class named Individual that inherits from the Python built-in list type. It represents an individual in the population. Each individual in the population will be a list of directions ('U', 'D', 'L', 'R') in this case. The fitness=creator.FitnessMin argument links the fitness attribute to the FitnessMin class we defined earlier.\n",
        "Toolbox: This section creates a toolbox that will be used to register functions that are used in the genetic algorithm.\n",
        "\n",
        "toolbox = base.Toolbox(): This line creates a toolbox instance.\n",
        "toolbox.register(\"attr_direction\", random.choice, ['U', 'D', 'L', 'R']): This line registers a function named attr_direction in the toolbox. This function randomly selects one direction ('U', 'D', 'L', 'R') as an attribute for an individual.\n",
        "toolbox.register(\"individual\", tools.initRepeat, creator.Individual, toolbox.attr_direction, n=100): This line registers a function named individual in the toolbox. This function initializes an individual by repeatedly calling the attr_direction function n times (here, 100 times) and creating an individual using the creator.Individual class.\n",
        "toolbox.register(\"population\", tools.initRepeat, list, toolbox.individual): This line registers a function named population in the toolbox. This function initializes a population by repeatedly calling the individual function."
      ],
      "metadata": {
        "id": "_8fJGgddtZA4"
      }
    },
    {
      "cell_type": "code",
      "source": [
        "def evaluate(individual):\n",
        "    x, y = start\n",
        "    steps = 0  # Initialize steps taken\n",
        "    for move in individual:\n",
        "        steps += 1  # Increment steps at each move\n",
        "\n",
        "        # Move up, down, left, or right while checking boundaries\n",
        "        if move == 'U': y = max(0, y - 1)\n",
        "        elif move == 'D': y = min(len(maze) - 1, y + 1)\n",
        "        elif move == 'L': x = max(0, x - 1)\n",
        "        elif move == 'R': x = min(len(maze[0]) - 1, x + 1)\n",
        "\n",
        "        # Check if the current position is the end goal\n",
        "        if (x, y) == end:\n",
        "            return (steps,)  # Return the number of steps taken\n",
        "\n",
        "        # Check if the current position is a wall\n",
        "        if maze[y][x] == 1:\n",
        "            break  # Hit a wall, break out of the loop\n",
        "\n",
        "    # Did not reach the goal, return 100 plus the Manhattan distance to the end\n",
        "    return (100 + abs(end[0] - x) + abs(end[1] - y),)"
      ],
      "metadata": {
        "id": "mVc_ZGOb_bcV"
      },
      "execution_count": null,
      "outputs": []
    },
    {
      "cell_type": "markdown",
      "source": [
        "'start' is assumed to be a tuple representing the starting position (x, y) in the maze. We initialize x and y with the starting coordinates.\n",
        "\n",
        "'for' loop iterates over each move in the individual's sequence of moves. An individual represents a candidate solution in the genetic algorithm, where each move represents a direction ('U', 'D', 'L', 'R').\n",
        "\n"
      ],
      "metadata": {
        "id": "igHtO90qufB0"
      }
    },
    {
      "cell_type": "markdown",
      "source": [
        "Depending on the move ('U' for up, 'D' for down, 'L' for left, 'R' for right), the corresponding coordinate (x or y) of the current position is updated accordingly, while ensuring that the new position remains within the boundaries of the maze."
      ],
      "metadata": {
        "id": "-pN72F4WyueE"
      }
    },
    {
      "cell_type": "markdown",
      "source": [
        "\n",
        "A tuple is an immutable sequence data type in Python, meaning its elements cannot be changed after it has been created. Tuples are defined by enclosing comma-separated values within parentheses (). For example:\n",
        "my_tuple = (1, 2, 3, 'hello', True)\n",
        "Tuples can contain elements of different data types, including numbers, strings, booleans, and even other tuples or data structures.\n",
        "\n"
      ],
      "metadata": {
        "id": "yIBlqU9st8Pt"
      }
    },
    {
      "cell_type": "markdown",
      "source": [
        "For the solutions that successfully reach the endpoint, simply return the number of steps taken as the score. For example, if a solution reaches the goal in 30 steps, return 30; if it reaches in 90 steps, return 90. This way, a smaller number of steps will naturally result in a smaller score.\n",
        "\n",
        "Now, it’s essential to consider the solutions that do not reach the endpoint, whether they get stuck or hit a wall before reaching the goal. These solutions should have a worse score than any solution that does reach the endpoint. Since the worst score for a solution that reaches the endpoint is 100 (if it takes 100 steps), you can use this as a baseline for those that fail.\n",
        "\n",
        "For solutions that fail to reach the endpoint, consider returning a score that is 100 plus the Manhattan distance from the point where they hit the wall or got stuck to the endpoint. This approach ensures that their score will always be over 100, reflecting a poorer outcome compared to any successful solution. The exact penalty above 100 will be determined by how far they are from the goal, making the scoring logical in terms of higher and lower values. This modification should help clarify the relative performance of different solutions in your genetic algorithm."
      ],
      "metadata": {
        "id": "PWZ_UXsa_oZw"
      }
    },
    {
      "cell_type": "code",
      "source": [
        "def custom_mutate(individual, indpb=0.2):\n",
        "    directions = ['U', 'D', 'L', 'R']\n",
        "    for i in range(len(individual)):\n",
        "        if random.random() < indpb:\n",
        "            # Exclude the current direction to ensure mutation changes the gene\n",
        "            possible_directions = [d for d in directions if d != individual[i]]\n",
        "            individual[i] = random.choice(possible_directions)\n",
        "    return individual,"
      ],
      "metadata": {
        "id": "BYgZ6Xgrrg3D"
      },
      "execution_count": null,
      "outputs": []
    },
    {
      "cell_type": "markdown",
      "source": [
        "This function, custom_mutate, implements a custom mutation operator for mutating individuals in a genetic algorithm.\n",
        "\n",
        "This function takes an individual (a list of directions) as input and an optional parameter indpb, which represents the probability of mutation for each gene (direction) in the individual. The default value for indpb is set to 0.2 (20%).\n",
        "\n",
        "\n",
        "Here, directions is defined as a list containing the possible directions an individual can take ('U' for up, 'D' for down, 'L' for left, and 'R' for right).\n",
        "\n",
        "\n",
        "The 'for' loop iterates over each gene (direction) in the individual.\n",
        "\n",
        "Inside the loop, random.random() generates a random float between 0 and 1. If this random value is less than the mutation probability (indpb), the mutation process will be applied to the current gene.\n",
        "\n",
        "Here, possible_directions is defined as a list comprehension that filters out the current direction from the list of all possible directions. This ensures that the mutation changes the gene to a different direction.\n",
        "\n",
        "Finally, if the gene is selected for mutation, a new direction is randomly chosen from the list of possible directions excluding the current direction. This new direction replaces the original direction in the individual, effectively mutating the gene.\n",
        "\n",
        "\n",
        "\n",
        "The function returns the mutated individual. Note the comma after individual, which ensures that the return value is a tuple containing only the individual. This is required because DEAP expects mutation functions to return a tuple."
      ],
      "metadata": {
        "id": "aArcV4_d4iIw"
      }
    },
    {
      "cell_type": "code",
      "source": [
        "toolbox.register(\"evaluate\", evaluate)\n",
        "toolbox.register(\"select\", tools.selTournament, tournsize=3)\n",
        "toolbox.register(\"mate\", tools.cxUniform, indpb=0.5)\n",
        "toolbox.register(\"mutate\", custom_mutate, indpb=0.2)"
      ],
      "metadata": {
        "id": "fKspCxK7eYLX"
      },
      "execution_count": null,
      "outputs": []
    },
    {
      "cell_type": "code",
      "source": [
        "# Function to visualize the maze and path\n",
        "def plot_path(individual):\n",
        "    x, y = start\n",
        "    plt.plot(x, y, \"go\")  # start point\n",
        "    for move in individual:\n",
        "        # Attempt the move\n",
        "        next_x, next_y = x, y\n",
        "        if move == 'U': next_y = max(0, y - 1)\n",
        "        elif move == 'D': next_y = min(len(maze) - 1, y + 1)\n",
        "        elif move == 'L': next_x = max(0, x - 1)\n",
        "        elif move == 'R': next_x = min(len(maze[0]) - 1, x + 1)\n",
        "\n",
        "        # Check for wall collision before plotting the move\n",
        "        if maze[next_y][next_x] == 1 or (next_x, next_y) == end: break\n",
        "        # No collision, so make the move and plot it\n",
        "        x, y = next_x, next_y\n",
        "        plt.plot(x, y, \"bo\")\n",
        "\n",
        "    plt.plot(end[0], end[1], \"ro\")  # end point\n",
        "    plt.imshow(maze, cmap=\"binary\")\n",
        "    plt.show()"
      ],
      "metadata": {
        "id": "Ev7HOFC6eaZC"
      },
      "execution_count": null,
      "outputs": []
    },
    {
      "cell_type": "code",
      "source": [
        "# Run the genetic algorithm\n",
        "def run_ga(generations=2000, pop_size=50):\n",
        "    pop = toolbox.population(n=pop_size)\n",
        "    best_individuals = []\n",
        "    for gen in range(generations):\n",
        "        offspring = algorithms.varAnd(pop, toolbox, cxpb=0.5, mutpb=0.2)\n",
        "        fits = toolbox.map(toolbox.evaluate, offspring)\n",
        "        for fit, ind in zip(fits, offspring):\n",
        "            ind.fitness.values = fit\n",
        "        pop = toolbox.select(offspring, k=len(pop))\n",
        "        top_individual = tools.selBest(pop, k=1)[0]\n",
        "        best_individuals.append(top_individual)\n",
        "\n",
        "        if gen in [2, 10, 50, 100, 500] or gen == generations - 1:\n",
        "            print(f\"Generation {gen}:\")\n",
        "            plot_path(top_individual)"
      ],
      "metadata": {
        "id": "0v4dE3Jpeca2"
      },
      "execution_count": null,
      "outputs": []
    },
    {
      "cell_type": "markdown",
      "source": [
        "This function takes two optional parameters: generations, which specifies the number of generations to run the genetic algorithm, and pop_size, which specifies the population size.\n",
        "\n",
        "This line initializes the population using the population function from the toolbox, with a specified population size (pop_size).\n",
        "\n",
        "This initializes an empty list to store the best individual from each generation.\n",
        "\n",
        "\n",
        "This line generates offspring for the next generation using variation operators (varAnd), which combines crossover (cxpb=0.5) and mutation (mutpb=0.2) with the current population.\n",
        "\n",
        "\n",
        "This line evaluates the fitness of each offspring using the evaluate function defined earlier.\n",
        "\n",
        "\n",
        "for fit, ind in zip(fits, offspring): This is a loop that iterates over pairs of elements from fits and offspring. zip() is a Python built-in function that takes multiple iterables and returns an iterator that produces tuples where the i-th tuple contains the i-th element from each of the input iterables. For each pair of elements (fit, ind) obtained from zip(), it assigns the fitness value fit to the fitness.values attribute of the individual ind.ind.fitness.values is a tuple that stores the fitness values of the individual ind. By assigning fit to ind.fitness.values, we are updating the fitness values of the individual to the values computed during evaluation.\n",
        "\n",
        "selBest is a function from the tools module used to select the best individuals from a population based on their fitness values.\n",
        "The selBest function selects the best individuals from the population pop based on their fitness values. The k parameter specifies the number of individuals to select, and here it's set to 1, indicating that we want to select the single best individual.\n",
        "\n",
        "[0] at the end of the line accesses the first (and only) element in the list of best individuals returned by selBest. Since selBest returns a list of individuals (even if k is set to 1), we use [0] to extract the first individual from this list.\n",
        "\n",
        "\n",
        "\n",
        "\n"
      ],
      "metadata": {
        "id": "Z8s4sn6i7-jU"
      }
    },
    {
      "cell_type": "code",
      "source": [
        "run_ga()"
      ],
      "metadata": {
        "id": "Zwn_w5VHefiW",
        "colab": {
          "base_uri": "https://localhost:8080/",
          "height": 1000
        },
        "outputId": "74e38b8f-08b7-49e6-9a0a-558e15bdfd99"
      },
      "execution_count": null,
      "outputs": [
        {
          "output_type": "stream",
          "name": "stdout",
          "text": [
            "Generation 2:\n"
          ]
        },
        {
          "output_type": "display_data",
          "data": {
            "text/plain": [
              "<Figure size 640x480 with 1 Axes>"
            ],
            "image/png": "[encoded data removed]"
          },
          "metadata": {}
        },
        {
          "output_type": "stream",
          "name": "stdout",
          "text": [
            "Generation 10:\n"
          ]
        },
        {
          "output_type": "display_data",
          "data": {
            "text/plain": [
              "<Figure size 640x480 with 1 Axes>"
            ],
            "image/png": "[encoded data removed]"
          },
          "metadata": {}
        },
        {
          "output_type": "stream",
          "name": "stdout",
          "text": [
            "Generation 50:\n"
          ]
        },
        {
          "output_type": "display_data",
          "data": {
            "text/plain": [
              "<Figure size 640x480 with 1 Axes>"
            ],
            "image/png": "[encoded data removed]"
          },
          "metadata": {}
        },
        {
          "output_type": "stream",
          "name": "stdout",
          "text": [
            "Generation 100:\n"
          ]
        },
        {
          "output_type": "display_data",
          "data": {
            "text/plain": [
              "<Figure size 640x480 with 1 Axes>"
            ],
            "image/png": "[encoded data removed]"
          },
          "metadata": {}
        },
        {
          "output_type": "stream",
          "name": "stdout",
          "text": [
            "Generation 500:\n"
          ]
        },
        {
          "output_type": "display_data",
          "data": {
            "text/plain": [
              "<Figure size 640x480 with 1 Axes>"
            ],
            "image/png": "[encoded data removed]"
          },
          "metadata": {}
        },
        {
          "output_type": "stream",
          "name": "stdout",
          "text": [
            "Generation 1999:\n"
          ]
        },
        {
          "output_type": "display_data",
          "data": {
            "text/plain": [
              "<Figure size 640x480 with 1 Axes>"
            ],
            "image/png": "[encoded data removed]"
          },
          "metadata": {}
        }
      ]
    }
  ]
}